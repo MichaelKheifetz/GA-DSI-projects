{
 "cells": [
  {
   "cell_type": "markdown",
   "metadata": {
    "slideshow": {
     "slide_type": "slide"
    }
   },
   "source": [
    "# ![](https://ga-dash.s3.amazonaws.com/production/assets/logo-9f88ae6c9c3871690e33280fcf557f33.png) Intro to Propability Theory\n",
    "\n",
    "Week 2 | Day 4"
   ]
  },
  {
   "cell_type": "markdown",
   "metadata": {
    "slideshow": {
     "slide_type": "slide"
    }
   },
   "source": [
    "## A short Recap of Measure Theory\n",
    "\n",
    "**What did we speak about?**\n",
    "\n",
    "* For any given set $\\Omega$ we introduced the set of all subsets $\\mathbb{P}(\\Omega)$. We used $\\{eggs, bacon, cheese \\}$ as an example yesterday and wrote down every element of the set of all subsets."
   ]
  },
  {
   "cell_type": "markdown",
   "metadata": {
    "slideshow": {
     "slide_type": "fragment"
    }
   },
   "source": [
    "* We talked about special maps called Measures that map each subset onto a positive real number. $\\mu(\\{eggs\\}) = 1, \\mu(\\{bacon\\}) = 2, \\mu(\\{cheese\\}) = 3$."
   ]
  },
  {
   "cell_type": "markdown",
   "metadata": {
    "slideshow": {
     "slide_type": "fragment"
    }
   },
   "source": [
    "* We introduced the integral of a function $E[f] = \\int_{A} d\\mu(x) f(x)$ and found out that the integral is nothing else but the weighted average of the function where we use the measure as weights. We used this to calculate the weighted average coupon of a portfolio."
   ]
  },
  {
   "cell_type": "markdown",
   "metadata": {
    "slideshow": {
     "slide_type": "slide"
    }
   },
   "source": [
    "* We discovered that the map $P:\\mathbb{P}(\\Omega) \\to \\mathbb{R}^+\\,\\,:\\,\\, P(A) = \\int_{A} d\\mu(x) f(x)$ is a measure again (if $f(x) > 0$)."
   ]
  },
  {
   "cell_type": "markdown",
   "metadata": {
    "slideshow": {
     "slide_type": "fragment"
    }
   },
   "source": [
    "* We looked at the special measure defined by $P_N(A) = \\int_{A} d\\lambda(x) \\frac{1}{\\sqrt{2\\pi}}e^{-x^2}$ which is called the normal distribution. "
   ]
  },
  {
   "cell_type": "markdown",
   "metadata": {
    "slideshow": {
     "slide_type": "fragment"
    }
   },
   "source": [
    "* We spoke about special functions called Random Variables $X:\\Omega \\to \\mathbb{R}$ that map the event space $\\Omega$ to the real numbers (or integers) and discussed that a Random Variable is normally distributed $X \\sim P_N$ if $P(X^{-1}(A)) = P(X \\in A)= \\int_{A} dP_N(x)$."
   ]
  },
  {
   "cell_type": "markdown",
   "metadata": {
    "slideshow": {
     "slide_type": "slide"
    }
   },
   "source": [
    "**Example 1:**\n",
    "\n",
    "Let's pick an event space $\\Omega$ that represents somebody rolling a dice. As we already discussed in Propability theory we don't really know how the event space looks like. We will call the Random Variable which denotes the outcome of the dice by $X$. So if $X(\\omega) = 6$ then we know that this particular element $\\omega \\in \\Omega$ from the event space resulted in a 6. Without knowing anything further about the dice we can make the assumption that all events resulting in the same number have equal likelihoods: $$P(X^{-1}(n)) = P(X=n) = \\frac{1}{6}$$\n",
    "\n"
   ]
  },
  {
   "cell_type": "markdown",
   "metadata": {
    "slideshow": {
     "slide_type": "slide"
    }
   },
   "source": [
    "Now let's say we are playing the following game:\n",
    "* We have to pay someone 5 dollars if the dice is 6\n",
    "* We get 1 dollar if the dice is not 6\n",
    "\n",
    "We can express the outcome as a function of the dice value $X$. \n",
    "$$f(X) = -5 \\text{ if } X = 6, f(X) = 1 \\text{ otherwise}$$\n",
    "\n",
    "So for example if the event $\\omega$ leads to a dice value of 5 $X(\\omega_0) = 5$ then $f(X(\\omega_0)) = f(5) = 1$.\n",
    "\n",
    "We can now calculate the expected gain\\loss as the weighted average:\n",
    "$$E[f] = \\int_{\\{1,2,3,4,5,6\\}} dP(x) f(x) = f(1)P(X=1) + f(2)P(X=2) + ... = 1 * \\frac{5}{6} + (-5) * \\frac{1}{6} = 0$$\n",
    "\n",
    "Thus the expected gain\\loss when playing this game is exactly 0."
   ]
  },
  {
   "cell_type": "markdown",
   "metadata": {
    "slideshow": {
     "slide_type": "slide"
    }
   },
   "source": [
    "**Example 2:**\n",
    "\n",
    "Let's pick an event space again and call it $\\Omega$ as usual. Instead of rolling one dice someone will now roll two dices. $X_1$ denotes the outcome of the first dice, $X_2$ denotes the outcome of the second dice. Let's make the equal propability assumption again:\n",
    "\n",
    "$$P(X_1 = n, X_2 = m) = P(X_1^{-1}(n) \\cap X_2^{-1}(m)) = \\frac{1}{6}*\\frac{1}{6} = \\frac{1}{36}$$\n",
    "\n",
    "We can now calculate the propability of the event $X_1 = n$ independent of the second dice $X_2$ by applying the measure rule $\\mu(A \\uplus B) = \\mu(A) + \\mu(B)$.\n",
    "\n",
    "$$ P(X_1 = n) = P(X_1 = n \\cap X_2 = \\{1,2,3,4,5,6\\}) = \\sum_{m \\in \\{1,2,3,4,5,6\\}} P(X_1 = n, X_2 = m ) = \\frac{6}{36} = \\frac{1}{6}$$\n",
    "\n",
    "If we do the same for $X_2=m$ we see that $$P(X_1 = n \\cap X_2 = m) = P(X_1 = n)*P(X_2 = m)$$"
   ]
  },
  {
   "cell_type": "markdown",
   "metadata": {
    "slideshow": {
     "slide_type": "slide"
    }
   },
   "source": [
    "**Definition of Independence**\n",
    "\n",
    "Let $\\Omega$ be an event space with a Propability measure $P$ and let $A,B \\in \\mathbb{P}(\\Omega)$ be two subsets of events. \n",
    "* $A$ and $B$ are called **independent** if $P(A \\cap B) = P(A)*P(B)$"
   ]
  },
  {
   "cell_type": "markdown",
   "metadata": {
    "slideshow": {
     "slide_type": "fragment"
    }
   },
   "source": [
    "**Definition of marginal Propability**\n",
    "\n",
    "Let $(\\Omega, P)$ be a propability space and let $X,Y : \\Omega \\to \\mathbb{H}$ be two random variables to any numbered set such as the set of real numbers or the set of all integers.\n",
    "\n",
    "$$P(X \\in A) = \\int_{X \\in A \\cap Y \\in \\mathbb{H}} dP(x,y)$$\n",
    "\n",
    "is called the **marginal Propability** of X."
   ]
  },
  {
   "cell_type": "markdown",
   "metadata": {
    "slideshow": {
     "slide_type": "slide"
    }
   },
   "source": [
    "**Example 3:**\n",
    "\n",
    "Lets take a propability space $(\\Omega, P)$ again and lets consider two random variables $X,Y : \\Omega \\to \\mathbb{R}$ such that\n",
    "\n",
    "$$ P(X \\in A, Y \\in B) = \\int_{AxB} d\\lambda^2(x,y) \\frac{e^{-(x^2+y^2)}}{2\\pi} = \\int_{A}d\\lambda(x)\\int_{B}d\\lambda(y) \\frac{e^{-(x^2+y^2)}}{2\\pi} $$\n",
    "\n",
    "Which means that $X,Y$ are normally distributed.\n",
    "\n",
    "If I now define the following function:\n",
    "$$\\Pi(x) = \\int_{-\\infty}^{\\infty}d\\lambda(y) \\frac{e^{-(x^2+y^2)}}{2\\pi}$$\n",
    "\n",
    "Then the marginal propability of X is\n",
    "\n",
    "$$ P_X(X \\in A) = \\int_{A}d\\lambda(x) \\Pi(x) $$\n",
    "\n",
    "And again, the marginal propability is a measure and thus we can define:\n",
    "\n",
    "$$ P_X(X \\in A) =  \\int_{A} dP_X(x)$$ \n",
    "\n",
    "and thus for any function $f$ that only depends on $X$ we can calculated the weighted average only using $P_X$:\n",
    "\n",
    "$$E_X[f] = \\int_{\\mathbb{R}} dP_X(x) f(x) = \\int_{\\mathbb{R}} d\\lambda(x) \\Pi(x) * f(x)$$"
   ]
  },
  {
   "cell_type": "code",
   "execution_count": 18,
   "metadata": {
    "collapsed": false,
    "slideshow": {
     "slide_type": "slide"
    }
   },
   "outputs": [
    {
     "data": {
      "text/plain": [
       "<matplotlib.text.Text at 0x110343d50>"
      ]
     },
     "execution_count": 18,
     "metadata": {},
     "output_type": "execute_result"
    },
    {
     "data": {
      "image/png": "[encoded data removed]",
      "text/plain": [
       "<matplotlib.figure.Figure at 0x10fdd3410>"
      ]
     },
     "metadata": {},
     "output_type": "display_data"
    }
   ],
   "source": [
    "import numpy as np\n",
    "from scipy import integrate\n",
    "from matplotlib import pyplot as plt\n",
    "%matplotlib inline\n",
    "g = lambda x,y: 1/(2*np.pi) * np.exp(-(x**2 + y**2)) #joint propability distribution\n",
    "Pi = lambda x : integrate.quad(lambda y: g(x,y), -np.infty, np.infty)[0] #marginal propability\n",
    "X = np.arange(-5,5.01, 0.01)\n",
    "PiX = np.array([Pi(x) for x in X])\n",
    "fig = plt.figure()\n",
    "ax = fig.add_subplot(1,1,1)\n",
    "ax.plot(X,PiX)\n",
    "ax.set_ylabel('$\\Pi(X^{-1}(x))$')\n",
    "ax.set_title('Area of each slice for which X = x in $\\Omega$')\n",
    "ax.set_xlabel('X = x')"
   ]
  },
  {
   "cell_type": "markdown",
   "metadata": {
    "slideshow": {
     "slide_type": "slide"
    }
   },
   "source": [
    "We can rewrite the integrals in the following way:\n",
    "\n",
    "$$ P(X \\in A, Y \\in B) = \\int_{A}d\\lambda(x)\\int_{B}d\\lambda(y) \\frac{e^{-(x^2+y^2)}}{2\\pi} = \\int_{A}d\\lambda(x)\\frac{e^{-x^2}}{\\sqrt{2\\pi}}*\\int_{B}d\\lambda(y)\\frac{e^{-y^2}}{\\sqrt{2\\pi}}  = P(X \\in A)*P(Y \\in B)$$\n",
    "\n",
    "Thus the two random variables $X,Y$ are independent."
   ]
  },
  {
   "cell_type": "markdown",
   "metadata": {
    "slideshow": {
     "slide_type": "slide"
    }
   },
   "source": [
    "**Example 3.2:**\n",
    "\n",
    "Lets use the situation that we defined above. Let's say $X$ represents the change in price of Home Depot at the end of a day and $Y$ represent the change in price of Apple at the end of the same day. Alice owns one stock of Home Depot and Bob owns one stock of Apple. If Apple droped more than Home Depot (Y<X) than Bob will pay 2 dollar to Alice. If Home Depot dropped more than Apple than Alice will pay Bob 1 dollar.\n",
    "\n",
    "The function representing the outcome for Bob is thus $f(x,y) = 1 \\text{ if } x<y$ and $f(x,y) = -2 \\text{ if } x>y$\n",
    "\n",
    "We can now calculate the weighted average outcome.\n",
    "\n",
    "$$E[f] = \\int dP(x,y) = \\int_{-\\infty}^{\\infty}d\\lambda(x) \\int_{-\\infty}^{\\infty}d\\lambda(y) \\,\\,  f(x,y) * \\frac{e^{-(x^2+y^2)}}{2\\pi}$$"
   ]
  },
  {
   "cell_type": "code",
   "execution_count": 25,
   "metadata": {
    "collapsed": false
   },
   "outputs": [
    {
     "name": "stdout",
     "output_type": "stream",
     "text": [
      "(-0.25000004776770973, 1.9996416858514277e-05)\n"
     ]
    }
   ],
   "source": [
    "f = lambda x,y : 1 if x < y else -2\n",
    "Ef = integrate.nquad(lambda x,y: f(x,y)*g(x,y), [[-np.infty, np.infty],[-np.infty, np.infty]])\n",
    "print(Ef)"
   ]
  },
  {
   "cell_type": "markdown",
   "metadata": {
    "slideshow": {
     "slide_type": "slide"
    }
   },
   "source": [
    "**Conditional Propability**\n",
    "\n",
    "Let $(\\Omega,P)$ be a propability space again. Let's assume we already know that the outcome of an experiment lies in a subset B. The propability of A conditional upon B is defined as:\n",
    "\n",
    "$$P(A|B) = \\frac{P(A \\cap B)}{P(B)} \\iff P(A|B)*P(B) = P(A \\cap B)$$\n",
    "\n",
    "The map $P_B(A) = P(A|B)$ is again a propability measure and thus we can define the **conditional expectation** value $$E[f|B] = \\int_A dP_B(x) f(x)$$\n",
    "\n",
    "Now lets asume we can devide the event space $\\Omega$ into 2 disjoint sets $\\Omega = B_1 \\uplus B_2$ then we can write the following for an event A:\n",
    "\n",
    "$$ P(A) = P(A \\cap \\Omega) = P(A \\cap (B_1 \\uplus B_2)) = P(A \\cap B_1 \\uplus A \\cap B_2) = P(A|B_1)*P(B_1) + P(A|B_2)*P(B_2)$$\n",
    "\n",
    "And for two events $A,B$ which are independent we get\n",
    "\n",
    "$$P(A|B) = \\frac{P(A \\cap B)}{P(B)} = \\frac{P(A)*P(B)}{P(B)} = P(A)$$"
   ]
  },
  {
   "cell_type": "markdown",
   "metadata": {
    "slideshow": {
     "slide_type": "slide"
    }
   },
   "source": [
    "**Example 4:**\n",
    "\n",
    "Let's take our 2 dice example from before and try to calculate $P(X_1 = 1 \\,| \\, X_1 + X_2 = 6)$.\n",
    "\n",
    "Using the formula from above $$P(X_1 = 1 \\,| \\, X_1 + X_2 = 6) = \\frac{P(X_1 = 1 \\cap X_1 + X_2 = 6)}{P(X_1 + X_2 = 6)}$$\n",
    "\n",
    "We get $$ P(X_1 = 1 \\,| \\, X_1 + X_2 = 6)  = 0.2$$\n",
    "\n",
    "Thus if we already know that $X_1 + X_2 = 6$ then there is a 20% chance that $X_1$ was 1.\n",
    "\n",
    "If we play a game where we receive the face value of dice number one in dollars $f(X_1) = X_1$ and we already know that the sum of the dices is 6 we can expect a gain of\n",
    "\n",
    "$$E[f|X_1+X_2 = 6] = \\int dP_{\\{X_1+X_2 =6\\}}(x)f(x) =\\int dP(x|X_1+X_2 = 6) f(x) =  \\sum x_1 *P(X_1 = x_1 | X_1 + X_2 = 6) = 3$$"
   ]
  },
  {
   "cell_type": "code",
   "execution_count": 39,
   "metadata": {
    "collapsed": false
   },
   "outputs": [
    {
     "name": "stdout",
     "output_type": "stream",
     "text": [
      "Conditional Propability:0.2, Conditional Expecation Value: 3.0\n"
     ]
    }
   ],
   "source": [
    "elem1 = [(x1,x2) for x1 in range(1,7) for x2 in range(1,7) if x1 + x2 == 6  and x1 == 1]\n",
    "elem2 = [(x1,x2) for x1 in range(1,7) for x2 in range(1,7) if x1 + x2 == 6 ]\n",
    "p1 = len(elem1)/36.\n",
    "p2 = len(elem2)/36.\n",
    "pc = p1/p2\n",
    "Ef = sum([x[0]*pc for x in elem2 ])\n",
    "print('Conditional Propability:{0}, Conditional Expecation Value: {1}'.format(pc,Ef))"
   ]
  },
  {
   "cell_type": "markdown",
   "metadata": {
    "slideshow": {
     "slide_type": "slide"
    }
   },
   "source": [
    "## Bayes Theorem\n",
    "\n",
    "Using conditioal propabilities we can derive the following:\n",
    "\n",
    "$$P(A|B) = \\frac{P(A \\cap B)}{P(B)} = \\frac{P(B \\cap A)}{P(B)} = \\frac{P(B|A) * P(A)}{P(B)}$$\n",
    "\n",
    "Let's say we have this one set of events $A$. Without knowing anything further we can expect that a random event $\\omega$ will lie in A with a propability of $P(A)$. $P(A)$ is called the **a priori** ppropability. Now we find out that additionally $B$ happened expressed as the conditional propability $P(B|A)$ called the **likelihood**. The occurance of the event B now changed our belive about the distribution of A which is now expressed as $P(A|B)$ and is called the **a posteriori** distribution. $P(B)$ is called the **evidence**."
   ]
  },
  {
   "cell_type": "markdown",
   "metadata": {
    "slideshow": {
     "slide_type": "slide"
    }
   },
   "source": [
    "**Example 5:**\n",
    "\n",
    "Let's say my doctor wants to find out if I have cancer. In this case $A$ could be the event that I don't have cancer. Before taking the X-Ray the best thing my doctor can do is to assume that I am no special and thus that my propability of having cancer is equal to the overall ratio in the population. Let's say its 0.2% ($P(A) = 0.2\\%$). Now my doctor takes an X-Ray which is here represented by the event B. Generally the chance of shooting a X-Ray exactly like mine is 2% $(P(B) = 2\\%)$. Also let's say that the propability of shooting that X-Ray under the assumption that I don't have cancer is only 3% ($P(B|A) = 3\\%$).\n",
    "\n",
    "So after taking the X-Ray I have a chance of\n",
    "\n",
    "$$P(A|B) = \\frac{P(B|A)*P(A)}{P(B)} = \\frac{0.03 * 0.002}{0.02} = 0.003 = 0.3\\% $$\n",
    "\n",
    "**I better get a treatment!!**"
   ]
  },
  {
   "cell_type": "markdown",
   "metadata": {},
   "source": [
    "## What did we learn today?\n",
    "\n",
    "* We learned what it means if two events $A,B$ are independent.\n",
    "* We talked about the marginal propability.\n",
    "* We learned about conditional propability and conditional expectation value\n",
    "* We learned about Bayes Theorem and how it applies"
   ]
  }
 ],
 "metadata": {
  "anaconda-cloud": {},
  "celltoolbar": "Slideshow",
  "kernelspec": {
   "display_name": "Python [default]",
   "language": "python",
   "name": "python2"
  },
  "language_info": {
   "codemirror_mode": {
    "name": "ipython",
    "version": 2
   },
   "file_extension": ".py",
   "mimetype": "text/x-python",
   "name": "python",
   "nbconvert_exporter": "python",
   "pygments_lexer": "ipython2",
   "version": "2.7.12"
  }
 },
 "nbformat": 4,
 "nbformat_minor": 0
}
