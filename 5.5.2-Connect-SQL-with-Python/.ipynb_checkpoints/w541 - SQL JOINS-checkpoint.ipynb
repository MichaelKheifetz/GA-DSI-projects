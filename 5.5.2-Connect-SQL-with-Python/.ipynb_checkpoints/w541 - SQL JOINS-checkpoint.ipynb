{
 "cells": [
  {
   "cell_type": "markdown",
   "metadata": {
    "slideshow": {
     "slide_type": "slide"
    }
   },
   "source": [
    "<img src=\"https://ga-dash.s3.amazonaws.com/production/assets/logo-9f88ae6c9c3871690e33280fcf557f33.png\" style=\"float: left; margin: 10px\">\n",
    "\n",
    "# SQL JOINS\n",
    "\n",
    "Week 5 | Lesson 4.1\n"
   ]
  },
  {
   "cell_type": "markdown",
   "metadata": {
    "slideshow": {
     "slide_type": "slide"
    }
   },
   "source": [
    "## A Short Recap\n",
    "\n",
    "* We spoke about the basic SELECT syntax\n",
    "* We spoke about set operations\n",
    "* We spoke about Group by, having and aggregate functions"
   ]
  },
  {
   "cell_type": "markdown",
   "metadata": {
    "slideshow": {
     "slide_type": "slide"
    }
   },
   "source": [
    "## Northwind Database\n",
    "![](./assets/images/Northwind_A4_size_for_Print.png) "
   ]
  },
  {
   "cell_type": "markdown",
   "metadata": {
    "slideshow": {
     "slide_type": "slide"
    }
   },
   "source": [
    "** LEFT JOIN / RIGHT JOIN**\n",
    "\n",
    "SQL Syntax:\n",
    "\n",
    "```sql\n",
    "SELECT a.col1, a.col2, b.col3 FROM a LEFT JOIN/RIGHT JOIN b ON a.col1 = b.col1\n",
    "```\n",
    "\n",
    "Take the set a as is, join every element in b with the corresponding col. If there is an element in set a that has no match in b then return NULL for the b columns. Same idea for RIGHT JOIN just the reversed way.\n",
    "\n",
    "**Example**\n",
    "```sql\n",
    "SELECT products.\"ProductID\",products.\"ProductName\" ,order_details.\"Discount\" \n",
    "FROM products LEFT JOIN order_details ON products.\"ProductID\" = order_details.\"ProductID\"\n",
    "WHERE order_details.\"Discount\" > 0;\n",
    "```\n",
    "\n",
    "**Question:** What is the result of this SELECT statement?"
   ]
  },
  {
   "cell_type": "markdown",
   "metadata": {
    "slideshow": {
     "slide_type": "slide"
    }
   },
   "source": [
    "**Example**\n",
    "\n",
    "Let's create a new table in mydb.\n",
    "\n",
    "```sql\n",
    "CREATE TABLE newtable(\n",
    "    key varchar(2),\n",
    "    value INT);\n",
    "    \n",
    "CREATE TABLE newtable2(\n",
    "    key varchar(2),\n",
    "    value INT);\n",
    "```\n"
   ]
  },
  {
   "cell_type": "markdown",
   "metadata": {
    "slideshow": {
     "slide_type": "slide"
    }
   },
   "source": [
    "\n",
    "And insert some values:\n",
    "\n",
    "```sql\n",
    "INSERT INTO newtable VALUES ('a1', 2);\n",
    "INSERT INTO newtable VALUES ('a2', 1);\n",
    "INSERT INTO newtable VALUES ('a3', 4);\n",
    "INSERT INTO newtable2 VALUES ('a1', 1);\n",
    "INSERT INTO newtable2 VALUES ('b2', 1);\n",
    "INSERT INTO newtable2 VALUES ('a3', 4);\n",
    "```\n"
   ]
  },
  {
   "cell_type": "markdown",
   "metadata": {
    "slideshow": {
     "slide_type": "slide"
    }
   },
   "source": [
    "\n",
    "**Queastion**: Explain the result of\n",
    "```sql\n",
    "SELECT * from newtable LEFT JOIN newtable2 on newtable.key = newtable2.key;\n",
    "```\n",
    "and\n",
    "```sql\n",
    "SELECT * from newtable RIGHT JOIN newtable2 on newtable.key = newtable2.key;\n",
    "```"
   ]
  },
  {
   "cell_type": "markdown",
   "metadata": {
    "slideshow": {
     "slide_type": "slide"
    }
   },
   "source": [
    "**Independent Practice (30 min):**\n",
    "\n",
    "Analyse the following SQL Query. Go from the inside out. What is the result?\n",
    "\n",
    "```sql\n",
    "SELECT employees.\"FirstName\", employees.\"LastName\", b.\"RegionDescription\" FROM\n",
    "(SELECT employeeterritories.\"EmployeeID\", a.\"RegionDescription\" FROM\n",
    "(SELECT territories.\"TerritoryID\" , region.\"RegionDescription\"\n",
    "FROM territories LEFT JOIN region ON territories.\"RegionID\" = region.\"RegionID\") AS a \n",
    "LEFT JOIN employeeterritories ON employeeterritories.\"TerritoryID\" = a.\"TerritoryID\") AS b\n",
    "LEFT JOIN employees ON employees.\"EmployeeID\" = b.\"EmployeeID\" \n",
    "WHERE employees.\"FirstName\" IS NOT NULL;\n",
    "```\n",
    "\n",
    "What do I need to change so that the result is the shows the region for each employee?"
   ]
  },
  {
   "cell_type": "markdown",
   "metadata": {
    "slideshow": {
     "slide_type": "slide"
    }
   },
   "source": [
    "**INNER JOIN**\n",
    "\n",
    "SQL Syntax:\n",
    "\n",
    "```sql\n",
    "SELECT a.col1, a.col2, b.col3 FROM a INNER JOIN b ON a.col1 = b.col1\n",
    "```\n",
    "\n",
    "Joins two sets on specific columns if the column value exists in boths sets. "
   ]
  },
  {
   "cell_type": "markdown",
   "metadata": {
    "slideshow": {
     "slide_type": "slide"
    }
   },
   "source": [
    "**Practice (30min)**\n",
    "\n",
    "1. Use RIGHT JOIN, INNER JOIN, LEFT JOIN on the two tables newtable and newtable2. Describe to your neighbors how the joins differ from each other.\n",
    "2. Find the total revenue for each employee. Use ORDER BY or HAVING to find the employee with the highest and lowest revenue. "
   ]
  },
  {
   "cell_type": "markdown",
   "metadata": {},
   "source": [
    "**What did we learn today?**\n",
    "\n",
    "* We learned how to insert values into a table.\n",
    "* We learned about the three different types of JOINS namely LEFT, RIGHT and INNER.\n",
    "* We learned how to analyse SQL Code follow the tracks"
   ]
  }
 ],
 "metadata": {
  "anaconda-cloud": {},
  "celltoolbar": "Slideshow",
  "kernelspec": {
   "display_name": "Python [default]",
   "language": "python",
   "name": "python2"
  },
  "language_info": {
   "codemirror_mode": {
    "name": "ipython",
    "version": 2
   },
   "file_extension": ".py",
   "mimetype": "text/x-python",
   "name": "python",
   "nbconvert_exporter": "python",
   "pygments_lexer": "ipython2",
   "version": "2.7.12"
  }
 },
 "nbformat": 4,
 "nbformat_minor": 0
}
