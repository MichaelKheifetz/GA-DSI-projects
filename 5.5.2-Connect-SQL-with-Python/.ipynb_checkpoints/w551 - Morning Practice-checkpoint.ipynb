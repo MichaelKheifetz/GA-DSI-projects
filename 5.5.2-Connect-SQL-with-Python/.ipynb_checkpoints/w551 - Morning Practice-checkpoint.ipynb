{
 "cells": [
  {
   "cell_type": "markdown",
   "metadata": {
    "slideshow": {
     "slide_type": "slide"
    }
   },
   "source": [
    "<img src=\"https://ga-dash.s3.amazonaws.com/production/assets/logo-9f88ae6c9c3871690e33280fcf557f33.png\" style=\"float: left; margin: 10px\">\n",
    "\n",
    "# Morning Practice\n",
    "\n",
    "Week 5 | Lesson 5.1\n"
   ]
  },
  {
   "cell_type": "markdown",
   "metadata": {
    "slideshow": {
     "slide_type": "slide"
    }
   },
   "source": [
    "**Overview**\n",
    "\n",
    "As you might know Google has users and third party applications that use Google such as PokemonGo. Imagine Google introduced a new feature for applications that allow the app to ask the user for his/her credit card info in the form 'Would you like to provide your credit card information? YES, NO'. Each time a user is being ask this question Google records that event called \"imp\" in a table called credit_card_feature. If the user clicks YES (event = \"click\") than there is a second entry in 'credit_card_feature\" that records the yes. There is no entry if the user clicks NO or leaves the page."
   ]
  },
  {
   "cell_type": "markdown",
   "metadata": {
    "slideshow": {
     "slide_type": "slide"
    }
   },
   "source": [
    "**Excersie 1**\n",
    "\n",
    "Create a table with the following columns: app_id (int), user_id (int), event (string), timestamp (int). Add the following values to the table:\n",
    "\n",
    "1,1,'imp', 143020101016\n",
    "\n",
    "1,1,'clk', 143025101016\n",
    "\n",
    "1,2,'imp', 134020122016\n",
    "\n",
    "1,3,'imp', 124512302016\n",
    "\n",
    "2,1,'imp', 141212302016\n",
    "\n",
    "2,2,'imp', 090912121017\n",
    "\n",
    "2,2,'clk', 090917121017\n"
   ]
  },
  {
   "cell_type": "markdown",
   "metadata": {
    "slideshow": {
     "slide_type": "slide"
    }
   },
   "source": [
    "**Exercise 2**\n",
    "\n",
    "Look up the CASE WHEN Statement. Write a SQL Query that measures the performance of the new feature."
   ]
  },
  {
   "cell_type": "markdown",
   "metadata": {
    "slideshow": {
     "slide_type": "slide"
    }
   },
   "source": [
    "**Ercersie 3**\n",
    "\n",
    "Imagine that a faulty script inserted false click events for app_id = 1 on a continous bases with random user_ids. The impression entries for app_id = 1 are correct.\n",
    "Write a query that filters out the correct clicks."
   ]
  }
 ],
 "metadata": {
  "anaconda-cloud": {},
  "celltoolbar": "Slideshow",
  "kernelspec": {
   "display_name": "Python [default]",
   "language": "python",
   "name": "python2"
  },
  "language_info": {
   "codemirror_mode": {
    "name": "ipython",
    "version": 2
   },
   "file_extension": ".py",
   "mimetype": "text/x-python",
   "name": "python",
   "nbconvert_exporter": "python",
   "pygments_lexer": "ipython2",
   "version": "2.7.12"
  }
 },
 "nbformat": 4,
 "nbformat_minor": 0
}
