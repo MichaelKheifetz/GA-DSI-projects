{
 "cells": [
  {
   "cell_type": "markdown",
   "metadata": {},
   "source": [
    "***Exercise Random Wlak***\n",
    "\n",
    "1. Write a function RandomWalk that takes two integers L and R and which returns an array with R simulated random walks starting at position 0 of length L. \n",
    "2. Plot the simulated RandomWalk (Tip: lets say result is the array that was returned by RandomWalk. You will need to transpose the array using array.T when plotting the walks)\n",
    "3. Plot the histogram of the number of final positions. (Extra: What distribution does that histogram represent? Can you guess the variance and the mean?)\n",
    "4. Wite a function called DoubleSlit which takes an array of RandomWalks and 5 integers P, L1, U!, L2, and U2. The function DoubleSplit removes all path from RandomWalk that do not pass through two slits defined by (L1, U1) and (L2, U2) at position P.\n",
    "5. Plot the simulated DoubleSplit for various parameters.\n",
    "6. Plot the histogram of the number of final positions. What can you say about the form of the distribution?"
   ]
  },
  {
   "cell_type": "code",
   "execution_count": 1,
   "metadata": {
    "collapsed": false
   },
   "outputs": [
    {
     "ename": "SyntaxError",
     "evalue": "invalid syntax (<ipython-input-1-a7bff3f99e4a>, line 6)",
     "output_type": "error",
     "traceback": [
      "\u001b[0;36m  File \u001b[0;32m\"<ipython-input-1-a7bff3f99e4a>\"\u001b[0;36m, line \u001b[0;32m6\u001b[0m\n\u001b[0;31m    walk = np.random.uniform(low = -1, high 1, size =(R,L))\u001b[0m\n\u001b[0m                                            ^\u001b[0m\n\u001b[0;31mSyntaxError\u001b[0m\u001b[0;31m:\u001b[0m invalid syntax\n"
     ]
    }
   ],
   "source": [
    "import numpy as np\n",
    "import matplotlib.pyplot as plt\n",
    "%matplotlib inline\n",
    "\n",
    "def Walk(R,L):\n",
    "    walk = np.random.uniform(low = -1, high 1, size =(R,L))\n",
    "    walk [: 0] = 0\n",
    "    return walk.cumsum(Axis = 1)\n",
    "\n",
    "r, 1 = raw_input(\"Enter two numbers here (# Walks, Length of Walk): \").split()\n",
    "r = int(r)\n",
    "l = int(l)\n",
    "\n",
    "walk_array walk(r, 1)\n",
    "plt.plot(walk_array.T)\n",
    "plt.show()"
   ]
  }
 ],
 "metadata": {
  "anaconda-cloud": {},
  "kernelspec": {
   "display_name": "Python [default]",
   "language": "python",
   "name": "python2"
  },
  "language_info": {
   "codemirror_mode": {
    "name": "ipython",
    "version": 2
   },
   "file_extension": ".py",
   "mimetype": "text/x-python",
   "name": "python",
   "nbconvert_exporter": "python",
   "pygments_lexer": "ipython2",
   "version": "2.7.12"
  }
 },
 "nbformat": 4,
 "nbformat_minor": 1
}
