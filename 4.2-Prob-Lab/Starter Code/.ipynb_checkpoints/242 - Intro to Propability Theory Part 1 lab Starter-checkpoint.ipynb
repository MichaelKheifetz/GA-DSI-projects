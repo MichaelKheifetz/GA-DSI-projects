{
 "cells": [
  {
   "cell_type": "markdown",
   "metadata": {},
   "source": [
    "*** Exercise 1: ***\n",
    "\n",
    "Let's flip a coin 10 times. For each flip the propability of flipping heads is 1/2. We will denote the outcome of the nth throw by $X_n$. Thus if the event $\\omega_0 \\in \\Omega$ occures we will get the sequence $(X_1(\\omega_0), X_2(\\omega_0), ..., X_{10}(\\omega_0)) = (0,1,1,..,1)$\n",
    "\n",
    "Let's define $Y_N = \\sum_{k=1}^{N} X_k$ as the total number of heads thrown during the first N throws.\n",
    "\n",
    "Create the event space as a list of tuples and solve the following exercises: (Tip: use itertools.product from the itertools package; additionally lets say you have a function that takes 3 arguments f(x,y,z) and you have a list of arguments arg = [1,2,3] you can then use * to unpack the list.)\n",
    "\n",
    "```python\n",
    "arg = [1,2,3]\n",
    "f(*arg) # Evaluates the function at x = 1, y = 2 and z = 3 \n",
    "\n",
    "```\n",
    "1. Create a lambda expression for $P(Y_{10} = n)$ and plot the distribution (bar chart).\n",
    "2. Calculate $E[Y_{10}] = \\int_{\\omega \\in \\Omega} dP(\\omega) Y(\\omega)$\n",
    "3. Create a lambda expression for $P(Y_{10}=n|Y_k = n)$ and plot the distribution for 4 values of k (bar chart). Take a moment and think about the result.\n",
    "4. Calculate $E[Y_{10}|Y_k = k]$ as a function of k and plot the result"
   ]
  }
 ],
 "metadata": {
  "anaconda-cloud": {},
  "kernelspec": {
   "display_name": "Python [default]",
   "language": "python",
   "name": "python2"
  },
  "language_info": {
   "codemirror_mode": {
    "name": "ipython",
    "version": 2
   },
   "file_extension": ".py",
   "mimetype": "text/x-python",
   "name": "python",
   "nbconvert_exporter": "python",
   "pygments_lexer": "ipython2",
   "version": "2.7.12"
  }
 },
 "nbformat": 4,
 "nbformat_minor": 1
}
