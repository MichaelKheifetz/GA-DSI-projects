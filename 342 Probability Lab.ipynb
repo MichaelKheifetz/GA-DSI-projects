{
 "cells": [
  {
   "cell_type": "markdown",
   "metadata": {},
   "source": [
    "**Exercise 1:**\n",
    "\n",
    "Plot the beta distribution given by\n",
    "\n",
    "$$\\frac{dP_{(a,b)}}{d\\lambda_L}(x) = \\frac{\\Gamma(a+b)}{\\Gamma(a) \\Gamma(b)}x^{a-1}(1-x)^{b-1}$$\n",
    "\n",
    "for at least 4 combinations of (a,b). How do the model parameters change the shape of the density?"
   ]
  },
  {
   "cell_type": "markdown",
   "metadata": {},
   "source": [
    "**Excersie 2:**\n",
    "\n",
    "We can now interpret the Beta Distribution as a family of distributions for each fixed value of a and b. \n",
    "For a random variable X which is distributed with the Beta Distribution calculate\n",
    "\n",
    "$$(b,a) \\to E_{(b,a)}[X]$$\n",
    "\n",
    "and plot the expectation value as a function of $(b,a)$."
   ]
  },
  {
   "cell_type": "markdown",
   "metadata": {},
   "source": [
    "**Exercise 3:**\n",
    "\n",
    "Create an expression for the variance $$(b,a) \\to Var_{(b,a)}[X^2] = E_{(b,a)}[X^2] - (E_{(b,a)}[X])^2$$ and plot the variance as a function of $(b,a)$."
   ]
  }
 ],
 "metadata": {
  "anaconda-cloud": {},
  "kernelspec": {
   "display_name": "Python [conda root]",
   "language": "python",
   "name": "conda-root-py"
  },
  "language_info": {
   "codemirror_mode": {
    "name": "ipython",
    "version": 2
   },
   "file_extension": ".py",
   "mimetype": "text/x-python",
   "name": "python",
   "nbconvert_exporter": "python",
   "pygments_lexer": "ipython2",
   "version": "2.7.12"
  }
 },
 "nbformat": 4,
 "nbformat_minor": 1
}
