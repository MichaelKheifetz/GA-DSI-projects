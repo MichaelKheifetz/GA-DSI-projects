{
 "cells": [
  {
   "cell_type": "code",
   "execution_count": 1,
   "metadata": {
    "collapsed": false
   },
   "outputs": [],
   "source": [
    "# Defining a class object called OSM\n",
    "class OSM(object):  \n",
    "    # Telling the program the default properties for the object that you instantiate and \n",
    "    # telling the program to expect a product list.\n",
    "    def __init__(self, product_list):\n",
    "        # initialize the store counter equal to 0\n",
    "        self.store_counter = 0\n",
    "        # Create an empty store list\n",
    "        self.store_list = []\n",
    "        # setting variable 'product_list' to argument 'product_list'\n",
    "        self.product_list = product_list\n",
    "    \n",
    "    # defining method to create online store with argument name.\n",
    "    def create_online_store(self, name): \n",
    "        # setting variable 'name' equal to argument 'name'\n",
    "        self.name = name\n",
    "        # increasing the default properties of store_counter by 1.\n",
    "        self.store_counter += 1\n",
    "        # Add the variable name to the store_list\n",
    "        self.store_list.append(name) \n",
    "        # saving an instance of class object Store to variable 'new_store'.\n",
    "        # class object store is defined in the code below.\n",
    "        new_store = Store(name) \n",
    "        # Return class object new_store\n",
    "        return new_store \n",
    "\n",
    "# Defining a class object called Store. \n",
    "class Store(object): \n",
    "    # Telling the program the default properties for the object that you instantiate and \n",
    "    # telling the program to expect a store_name.\n",
    "    def __init__(self,store_name):\n",
    "        # setting variable 'store_name' equal to argument 'store_name'\n",
    "        self.store_name = store_name \n",
    "        # initialize the customer_counter equal to 0\n",
    "        self.customer_counter = 0\n",
    "        # create an empty inventory dictionary\n",
    "        self.inventory = {}\n",
    "        # create an empty customer list\n",
    "        self.customers = []\n",
    "        \n",
    "    # defining method to create purchase_inventory_items with arguments item and quantity\n",
    "    def purchase_inventory_items(self,item,quantity):\n",
    "        # setting variable 'item' equal to argument 'item'\n",
    "        self.item = item\n",
    "        # setting variable 'quantity' equal to argument 'quantity'\n",
    "        self.quantity = quantity\n",
    "        # setting the inventory key to item and value to quantity\n",
    "        self.inventory[item] = quantity\n",
    "        \n",
    "    # defining method to sell_inventory_items with arguments item and quantity   \n",
    "    def sell_inventory_items(self,item,quantity):\n",
    "        # setting variable 'item' equal to argument 'item'\n",
    "        self.item = item\n",
    "        # setting variable 'quantity' equal to argument 'quantity'\n",
    "        self.quantity = quantity\n",
    "        # Subtracting quantity for the item from the inventory\n",
    "        self.inventory[item] -= quantity\n",
    "    \n",
    "    # defining method to create_customers with argument customer_name and store_name\n",
    "    def create_customers(self,customer_name, store_name):\n",
    "        \n",
    "        # increasing the default properties of customer_counter by 1.\n",
    "        self.customer_counter += 1\n",
    "        # setting variable 'customer_name' equal to argument 'customer_name'\n",
    "        self.customer_name = customer_name\n",
    "        # Add the variable customer_name to the customers list.\n",
    "        self.customers.append(customer_name)   \n",
    "        # saving an instance of class object Customers to variable 'new_customer'\n",
    "        # class object Customers is defined in the code below.\n",
    "        new_customer = Customers(customer_name, store_name)\n",
    "        # Return class object new_customer\n",
    "        return new_customer\n",
    "    \n",
    "# Defining a class object called Customers.        \n",
    "class Customers(object):\n",
    "    # Telling the program the default properties for the object that you instantiate and \n",
    "    # telling the program to expect a customer_name and store_name.\n",
    "    def __init__(self, customer_name, store_name):  \n",
    "        # setting variable 'customer_name' equal to argument 'customer_name'\n",
    "        self.customer_name = customer_name\n",
    "        # setting variable 'store_name' equal to argument 'store_name'\n",
    "        self.store_name = store_name\n",
    "        # initialize the item_counter equal to 0\n",
    "        self.item_counter = 0\n",
    "        # create an empty items dictionary\n",
    "        self.items = {}\n",
    "        \n",
    "    #defining method to purchase_from_inventory with arguments item and quantity    \n",
    "    def purchase_from_inventory(self, item, quantity):\n",
    "        # increasing the default properties of store_counter by 1.\n",
    "        self.item_counter += 1\n",
    "        # setting variable 'item' equal to argument 'item'\n",
    "        self.item = item\n",
    "        # setting variable 'quantity' equal to argument 'quantity'\n",
    "        self.quantity = quantity\n",
    "        # setting the items key to item and value to quantity\n",
    "        self.items[item] = quantity\n",
    "        # Using method sell_inventory_items from Store class object\n",
    "        # Using the method in order to decrease quantity for item in inventory for\n",
    "        # store_name.\n",
    "        store_name.sell_inventory_items(item, quantity)\n",
    "        \n",
    "        \n",
    "        "
   ]
  },
  {
   "cell_type": "code",
   "execution_count": 2,
   "metadata": {
    "collapsed": false
   },
   "outputs": [],
   "source": [
    "# Create Online Store Manager (OSM) Object and adding product list to it. \n",
    "\n",
    "\n",
    "group_1 = OSM(['books', 'cd'])\n"
   ]
  },
  {
   "cell_type": "code",
   "execution_count": 3,
   "metadata": {
    "collapsed": false
   },
   "outputs": [
    {
     "data": {
      "text/plain": [
       "['books', 'cd']"
      ]
     },
     "execution_count": 3,
     "metadata": {},
     "output_type": "execute_result"
    }
   ],
   "source": [
    "# Check product list.\n",
    "\n",
    "group_1.product_list"
   ]
  },
  {
   "cell_type": "code",
   "execution_count": 4,
   "metadata": {
    "collapsed": false
   },
   "outputs": [],
   "source": [
    "# Create 1 store in group_1 OSM object and assign it the name 'store_1' and\n",
    "# save to the variable store_1.\n",
    "\n",
    "\n",
    "store_1 = group_1.create_online_store('store_1')"
   ]
  },
  {
   "cell_type": "code",
   "execution_count": 5,
   "metadata": {
    "collapsed": false
   },
   "outputs": [
    {
     "data": {
      "text/plain": [
       "1"
      ]
     },
     "execution_count": 5,
     "metadata": {},
     "output_type": "execute_result"
    }
   ],
   "source": [
    "# Testing the store_counter\n",
    "\n",
    "group_1.store_counter"
   ]
  },
  {
   "cell_type": "code",
   "execution_count": 6,
   "metadata": {
    "collapsed": false
   },
   "outputs": [],
   "source": [
    "# Add inventory to the store.\n",
    "\n",
    "store_1.purchase_inventory_items('pop-cd', 25)\n",
    "store_1.purchase_inventory_items('rock-cd', 10)"
   ]
  },
  {
   "cell_type": "code",
   "execution_count": 7,
   "metadata": {
    "collapsed": false
   },
   "outputs": [
    {
     "data": {
      "text/plain": [
       "{'pop-cd': 25, 'rock-cd': 10}"
      ]
     },
     "execution_count": 7,
     "metadata": {},
     "output_type": "execute_result"
    }
   ],
   "source": [
    "# Check inventory of store\n",
    "\n",
    "store_1.inventory"
   ]
  },
  {
   "cell_type": "code",
   "execution_count": 8,
   "metadata": {
    "collapsed": false
   },
   "outputs": [],
   "source": [
    "# Create customers for store.\n",
    "Customers_1 = store_1.create_customers('Customers_1', 'store_1')"
   ]
  },
  {
   "cell_type": "code",
   "execution_count": 10,
   "metadata": {
    "collapsed": false
   },
   "outputs": [
    {
     "data": {
      "text/plain": [
       "['Customers_1']"
      ]
     },
     "execution_count": 10,
     "metadata": {},
     "output_type": "execute_result"
    }
   ],
   "source": [
    "#Check customers for store\n",
    "store_1.customers"
   ]
  }
 ],
 "metadata": {
  "anaconda-cloud": {},
  "kernelspec": {
   "display_name": "Python [conda root]",
   "language": "python",
   "name": "conda-root-py"
  },
  "language_info": {
   "codemirror_mode": {
    "name": "ipython",
    "version": 2
   },
   "file_extension": ".py",
   "mimetype": "text/x-python",
   "name": "python",
   "nbconvert_exporter": "python",
   "pygments_lexer": "ipython2",
   "version": "2.7.12"
  }
 },
 "nbformat": 4,
 "nbformat_minor": 1
}
