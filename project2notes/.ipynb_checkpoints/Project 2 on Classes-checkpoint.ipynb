{
 "cells": [
  {
   "cell_type": "code",
   "execution_count": 28,
   "metadata": {
    "collapsed": false
   },
   "outputs": [
    {
     "ename": "NameError",
     "evalue": "global name 'customer_list' is not defined",
     "output_type": "error",
     "traceback": [
      "\u001b[0;31m---------------------------------------------------------------------------\u001b[0m",
      "\u001b[0;31mNameError\u001b[0m                                 Traceback (most recent call last)",
      "\u001b[0;32m<ipython-input-28-8fac577c2944>\u001b[0m in \u001b[0;36m<module>\u001b[0;34m()\u001b[0m\n\u001b[1;32m     60\u001b[0m \u001b[0;34m\u001b[0m\u001b[0m\n\u001b[1;32m     61\u001b[0m   \u001b[0;31m### Creating the store, use a method\u001b[0m\u001b[0;34m\u001b[0m\u001b[0;34m\u001b[0m\u001b[0m\n\u001b[0;32m---> 62\u001b[0;31m \u001b[0mMichael\u001b[0m\u001b[0;34m.\u001b[0m\u001b[0mcreate_customers\u001b[0m\u001b[0;34m(\u001b[0m\u001b[0;34m\"Michael\"\u001b[0m\u001b[0;34m)\u001b[0m\u001b[0;34m\u001b[0m\u001b[0m\n\u001b[0m\u001b[1;32m     63\u001b[0m \u001b[0mMichael\u001b[0m\u001b[0;34m.\u001b[0m\u001b[0mcreate_customers\u001b[0m\u001b[0;34m(\u001b[0m\u001b[0;34m\"Alex\"\u001b[0m\u001b[0;34m)\u001b[0m\u001b[0;34m\u001b[0m\u001b[0m\n\u001b[1;32m     64\u001b[0m \u001b[0mMichael\u001b[0m\u001b[0;34m.\u001b[0m\u001b[0mcreate_customers\u001b[0m\u001b[0;34m(\u001b[0m\u001b[0;34m\"John\"\u001b[0m\u001b[0;34m)\u001b[0m\u001b[0;34m\u001b[0m\u001b[0m\n",
      "\u001b[0;32m<ipython-input-28-8fac577c2944>\u001b[0m in \u001b[0;36mcreate_customers\u001b[0;34m(self, customer_name)\u001b[0m\n\u001b[1;32m     37\u001b[0m         \u001b[0mself\u001b[0m\u001b[0;34m.\u001b[0m\u001b[0mcounter\u001b[0m \u001b[0;34m+=\u001b[0m \u001b[0;36m1\u001b[0m\u001b[0;34m\u001b[0m\u001b[0m\n\u001b[1;32m     38\u001b[0m         \u001b[0mself\u001b[0m\u001b[0;34m.\u001b[0m\u001b[0mcustomer_name\u001b[0m \u001b[0;34m=\u001b[0m \u001b[0mcustomer_name\u001b[0m\u001b[0;34m\u001b[0m\u001b[0m\n\u001b[0;32m---> 39\u001b[0;31m         \u001b[0mself\u001b[0m\u001b[0;34m.\u001b[0m\u001b[0mcustomer\u001b[0m\u001b[0;34m.\u001b[0m\u001b[0mappend\u001b[0m\u001b[0;34m(\u001b[0m\u001b[0mcustomer_list\u001b[0m\u001b[0;34m)\u001b[0m\u001b[0;34m\u001b[0m\u001b[0m\n\u001b[0m\u001b[1;32m     40\u001b[0m         \u001b[0mcreate_customers\u001b[0m \u001b[0;34m=\u001b[0m \u001b[0mcreate_customer\u001b[0m\u001b[0;34m(\u001b[0m\u001b[0mname\u001b[0m\u001b[0;34m)\u001b[0m\u001b[0;34m\u001b[0m\u001b[0m\n\u001b[1;32m     41\u001b[0m         \u001b[0;32mreturn\u001b[0m \u001b[0mcreate_customers\u001b[0m\u001b[0;34m\u001b[0m\u001b[0m\n",
      "\u001b[0;31mNameError\u001b[0m: global name 'customer_list' is not defined"
     ]
    }
   ],
   "source": [
    "\n",
    "class OSM(object):  # Initializes The OSM Class\n",
    "    def __init__(self):\n",
    "        self.store_counter = 0\n",
    "        self.store_list = []\n",
    "           \n",
    "    def create_online_store(self, name): \n",
    "        self.name = name\n",
    "        self.store_counter += 1\n",
    "        self.store_list.append(name)              \n",
    "        new_store = Store(name) \n",
    "        return new_store \n",
    "        \n",
    "class Store(object): \n",
    "    \n",
    "    def __init__(self,store_name):\n",
    "        self.store_name = store_name \n",
    "        self.counter = 0\n",
    "        self.inventory = {}\n",
    "        self.customer = []\n",
    "        \n",
    "    def purchase_inventory_items(self,item,quantity):\n",
    "        self.item = item\n",
    "        self.quantity = quantity\n",
    "        self.inventory[item] = quantity\n",
    "        \n",
    "        \n",
    "    def sell_inventory_items(self,item,quantity):\n",
    "        self.item = item\n",
    "        self.quantity = quantity\n",
    "        self.inventory[item] -= quantity\n",
    "        \n",
    "\n",
    "        \n",
    "    def create_customers(self,customer_name):\n",
    "        \n",
    "        self.counter += 1\n",
    "        self.customer_name = customer_name\n",
    "        self.customer.append(customer_list)              \n",
    "        create_customers = create_customer(name) \n",
    "        return create_customers\n",
    "        \n",
    "class Customers(object):\n",
    "    \n",
    "    def __init__(self, inventory, customers):  \n",
    "        self.inventory = quantity \n",
    "        \n",
    "        \n",
    "\n",
    "\n",
    "    \n",
    "        \n",
    "\n",
    "Michael_osm = OSM()  ### instantiating OSM      \n",
    "Michael = Michael_osm.create_online_store(\"Hi\")  ### Creating the store, use a method\n",
    "Michael.purchase_inventory_items(\"Literature\",1000)\n",
    "Michael.purchase_inventory_items(\"Mathematics\",1000)\n",
    "Michael.purchase_inventory_items(\"History\",500)\n",
    "Michael.purchase_inventory_items(\"Philsophy\",500)\n",
    "\n",
    "  ### Creating the store, use a method\n",
    "Michael.create_customers(\"Michael\")\n",
    "Michael.create_customers(\"Alex\")\n",
    "Michael.create_customers(\"John\")\n",
    "Michael.create_customers(\"Peter\")\n",
    "\n",
    "\n",
    "\n",
    "\n",
    "\n",
    "    "
   ]
  },
  {
   "cell_type": "code",
   "execution_count": 29,
   "metadata": {
    "collapsed": false
   },
   "outputs": [
    {
     "data": {
      "text/plain": [
       "{'History': 500, 'Literature': 1000, 'Mathematics': 1000, 'Philsophy': 500}"
      ]
     },
     "execution_count": 29,
     "metadata": {},
     "output_type": "execute_result"
    }
   ],
   "source": [
    "Michael.inventory\n",
    "\n"
   ]
  },
  {
   "cell_type": "code",
   "execution_count": 30,
   "metadata": {
    "collapsed": false
   },
   "outputs": [
    {
     "data": {
      "text/plain": [
       "1"
      ]
     },
     "execution_count": 30,
     "metadata": {},
     "output_type": "execute_result"
    }
   ],
   "source": [
    "Michael_osm.store_counter"
   ]
  },
  {
   "cell_type": "code",
   "execution_count": 21,
   "metadata": {
    "collapsed": false
   },
   "outputs": [],
   "source": [
    "MichaelStores = OSM()"
   ]
  },
  {
   "cell_type": "code",
   "execution_count": 22,
   "metadata": {
    "collapsed": false
   },
   "outputs": [],
   "source": [
    "BN = MichaelStores.create_online_store(\"Barnes & Noble\")"
   ]
  },
  {
   "cell_type": "code",
   "execution_count": 23,
   "metadata": {
    "collapsed": false
   },
   "outputs": [
    {
     "data": {
      "text/plain": [
       "{}"
      ]
     },
     "execution_count": 23,
     "metadata": {},
     "output_type": "execute_result"
    }
   ],
   "source": [
    "BN.inventory"
   ]
  },
  {
   "cell_type": "code",
   "execution_count": 24,
   "metadata": {
    "collapsed": false
   },
   "outputs": [
    {
     "ename": "AttributeError",
     "evalue": "'Store' object has no attribute 'add_inventory_items'",
     "output_type": "error",
     "traceback": [
      "\u001b[0;31m---------------------------------------------------------------------------\u001b[0m",
      "\u001b[0;31mAttributeError\u001b[0m                            Traceback (most recent call last)",
      "\u001b[0;32m<ipython-input-24-0e2c93fde48b>\u001b[0m in \u001b[0;36m<module>\u001b[0;34m()\u001b[0m\n\u001b[0;32m----> 1\u001b[0;31m \u001b[0mBN\u001b[0m\u001b[0;34m.\u001b[0m\u001b[0madd_inventory_items\u001b[0m\u001b[0;34m(\u001b[0m\u001b[0;34m\"Fiction\"\u001b[0m\u001b[0;34m,\u001b[0m \u001b[0;36m1000\u001b[0m\u001b[0;34m)\u001b[0m\u001b[0;34m\u001b[0m\u001b[0m\n\u001b[0m\u001b[1;32m      2\u001b[0m \u001b[0mBN\u001b[0m\u001b[0;34m.\u001b[0m\u001b[0madd_inventory_items\u001b[0m\u001b[0;34m(\u001b[0m\u001b[0;34m\"Mathematics\"\u001b[0m\u001b[0;34m,\u001b[0m \u001b[0;36m500\u001b[0m\u001b[0;34m)\u001b[0m\u001b[0;34m\u001b[0m\u001b[0m\n\u001b[1;32m      3\u001b[0m \u001b[0mBN\u001b[0m\u001b[0;34m.\u001b[0m\u001b[0madd_inventory_items\u001b[0m\u001b[0;34m(\u001b[0m\u001b[0;34m\"Chess\"\u001b[0m\u001b[0;34m,\u001b[0m \u001b[0;36m200\u001b[0m\u001b[0;34m)\u001b[0m\u001b[0;34m\u001b[0m\u001b[0m\n\u001b[1;32m      4\u001b[0m \u001b[0mBN\u001b[0m\u001b[0;34m.\u001b[0m\u001b[0madd_inventory_items\u001b[0m\u001b[0;34m(\u001b[0m\u001b[0;34m\"Philosophy\"\u001b[0m\u001b[0;34m,\u001b[0m \u001b[0;36m300\u001b[0m\u001b[0;34m)\u001b[0m\u001b[0;34m\u001b[0m\u001b[0m\n\u001b[1;32m      5\u001b[0m \u001b[0;34m\u001b[0m\u001b[0m\n",
      "\u001b[0;31mAttributeError\u001b[0m: 'Store' object has no attribute 'add_inventory_items'"
     ]
    }
   ],
   "source": [
    "BN.add_inventory_items(\"Fiction\", 1000)\n",
    "BN.add_inventory_items(\"Mathematics\", 500)\n",
    "BN.add_inventory_items(\"Chess\", 200)\n",
    "BN.add_inventory_items(\"Philosophy\", 300)\n",
    "\n",
    "\n",
    "\n",
    "\n",
    "MS = MichaelStores.create_online_store(\"Music_Store\")\n",
    "MS.inventory\n",
    "MS.add_inventory_items(\"The Beatles\", 1000)\n",
    "MS.add_inventory_items(\"Rolling Stones\", 800)\n",
    "MS.add_inventory_items(\"Led Zeppelin\", 800)\n",
    "MS.add_inventory_items(\"Aerosmith\", 800)\n",
    "MS.add_inventory_items(\"Guns N Roses\", 750)"
   ]
  },
  {
   "cell_type": "code",
   "execution_count": 25,
   "metadata": {
    "collapsed": false
   },
   "outputs": [
    {
     "name": "stdout",
     "output_type": "stream",
     "text": [
      "{}\n",
      "{'Led Zeppelin': 800, 'Rolling Stones': 800, 'Guns N Roses': 750, 'The Beatles': 1000, 'Aerosmith': 800}\n"
     ]
    }
   ],
   "source": [
    "print BN.inventory\n",
    "print MS.inventory"
   ]
  },
  {
   "cell_type": "code",
   "execution_count": null,
   "metadata": {
    "collapsed": true
   },
   "outputs": [],
   "source": []
  }
 ],
 "metadata": {
  "anaconda-cloud": {},
  "kernelspec": {
   "display_name": "Python [conda root]",
   "language": "python",
   "name": "conda-root-py"
  },
  "language_info": {
   "codemirror_mode": {
    "name": "ipython",
    "version": 2
   },
   "file_extension": ".py",
   "mimetype": "text/x-python",
   "name": "python",
   "nbconvert_exporter": "python",
   "pygments_lexer": "ipython2",
   "version": "2.7.12"
  }
 },
 "nbformat": 4,
 "nbformat_minor": 1
}
